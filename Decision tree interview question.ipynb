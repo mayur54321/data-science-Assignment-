{
 "cells": [
  {
   "cell_type": "markdown",
   "id": "b5247c57-0adf-4ee5-b6e2-92f8768805dd",
   "metadata": {},
   "source": [
    "### 1. What are some common hyperparameters of decision tree models, and how do they affect the model's performance?\n",
    "\n",
    "Decision trees have several hyperparameters that influence their performance, interpretability, and generalization. Here are some common hyperparameters, along with how they impact the model:\n",
    "  \n",
    "1. **Max Depth (`max_depth`)**:  \n",
    "   - Limits the maximum depth of the tree, or how many splits are allowed from the root to a leaf node.\n",
    "   - **Effect**: A shallow tree (low `max_depth`) may underfit by not capturing enough detail, while a deep tree (high `max_depth`) may overfit by capturing noise in the training data.\n",
    "\n",
    "2. **Min Samples Split (`min_samples_split`)**:  \n",
    "   - The minimum number of samples required to split a node.\n",
    "   - **Effect**: Higher values prevent the model from splitting nodes with very few samples, which can reduce overfitting. Lower values allow for finer splits, potentially increasing complexity but also the risk of overfitting.\n",
    "\n",
    "3. **Min Samples Leaf (`min_samples_leaf`)**:  \n",
    "   - The minimum number of samples required to be at a leaf node.\n",
    "   - **Effect**: Larger values prevent the model from creating nodes with very few samples, which can improve generalization and reduce overfitting. Smaller values create more specific splits, which can lead to overfitting.\n",
    "\n",
    "4. **Max Features (`max_features`)**:  \n",
    "   - The maximum number of features to consider when looking for the best split.\n",
    "   - **Effect**: Limiting `max_features` can reduce model variance, making the model more robust and less prone to overfitting, but it may also reduce accuracy if important features are not considered.\n",
    "\n",
    "5. **Criterion (`criterion`)**:  \n",
    "   - The function used to measure the quality of a split, typically either \"gini\" for the Gini impurity or \"entropy\" for information gain in classification problems.\n",
    "   - **Effect**: Different criteria can lead to different splits. The choice often depends on the data, with no clear consensus on which is better, though it may impact the structure of the tree slightly.\n",
    "\n",
    "6. **Max Leaf Nodes (`max_leaf_nodes`)**:  \n",
    "   - Limits the number of leaf nodes in the tree.\n",
    "   - **Effect**: Controlling the maximum number of leaf nodes can help prevent overfitting by limiting the tree's complexity, making it smaller and more generalizable.\n",
    "\n",
    "7. **Class Weight (`class_weight`)**:  \n",
    "   - Adjusts weights for different classes in a classification problem.\n",
    "   - **Effect**: Useful for handling imbalanced classes, as it helps the model pay more attention to minority classes by giving them more weight.\n",
    "\n",
    "Choosing the right values for these hyperparameters often requires tuning, usually done through cross-validation to find the best balance between underfitting and overfitting, which leads to optimal generalization."
   ]
  },
  {
   "cell_type": "markdown",
   "id": "1a42afbd-6741-4ee8-9a2b-9c1fcda03f7d",
   "metadata": {},
   "source": [
    "### 2. What is the difference between the Label encoding and One-hot encoding?\n",
    "\n",
    "Label encoding and one-hot encoding are two common methods to convert categorical data into numerical form so that machine learning models can process it. Here’s how they differ:\n",
    "\n",
    "### 1. **Label Encoding**\n",
    "   - **Description**: Label encoding assigns a unique integer to each category in a feature. For example, if we have a feature \"Color\" with values `Red`, `Green`, and `Blue`, label encoding may map them as:\n",
    "     - `Red` -> 0\n",
    "     - `Green` -> 1\n",
    "     - `Blue` -> 2\n",
    "   - **When to Use**: Label encoding is typically used for ordinal (ordered) categorical features, where the categories have a meaningful ranking (e.g., `Low`, `Medium`, `High`).\n",
    "   - **Potential Issue**: With nominal (non-ordered) categories, label encoding can introduce unintended ordinal relationships. For example, assigning `Red` as 0 and `Green` as 1 might imply that `Red` is less than `Green`, which may not make sense in many contexts.\n",
    "\n",
    "### 2. **One-Hot Encoding**\n",
    "   - **Description**: One-hot encoding creates a new binary column for each category in a feature. Each column indicates the presence (`1`) or absence (`0`) of that category. For example, if \"Color\" has values `Red`, `Green`, and `Blue`, one-hot encoding would represent it as:\n",
    "     - `Red` -> `[1, 0, 0]`\n",
    "     - `Green` -> `[0, 1, 0]`\n",
    "     - `Blue` -> `[0, 0, 1]`\n",
    "   - **When to Use**: One-hot encoding is typically used for nominal (non-ordered) categorical features, where each category is distinct, and there is no intrinsic ordering.\n",
    "   - **Potential Issue**: One-hot encoding increases the dimensionality of the data, especially if the feature has many categories. This can lead to a more complex model and potentially higher computational costs.\n",
    "\n",
    "### **Summary Table**\n",
    "\n",
    "| Encoding Type     | Encoding Result       | Best For                      | Potential Issue                           |\n",
    "|-------------------|-----------------------|--------------------------------|------------------------------------------|\n",
    "| **Label Encoding** | Assigns unique integers to each category (e.g., `Red` -> 0) | Ordinal (ordered) categorical features | May imply order that doesn’t exist |\n",
    "| **One-Hot Encoding** | Creates binary columns for each category (e.g., `Red` -> `[1, 0, 0]`) | Nominal (non-ordered) categorical features | Increases dimensionality"
   ]
  },
  {
   "cell_type": "markdown",
   "id": "3a160e96-0ad3-4b0f-8ac9-638aedaf4895",
   "metadata": {},
   "source": []
  }
 ],
 "metadata": {
  "kernelspec": {
   "display_name": "Python 3 (ipykernel)",
   "language": "python",
   "name": "python3"
  },
  "language_info": {
   "codemirror_mode": {
    "name": "ipython",
    "version": 3
   },
   "file_extension": ".py",
   "mimetype": "text/x-python",
   "name": "python",
   "nbconvert_exporter": "python",
   "pygments_lexer": "ipython3",
   "version": "3.11.7"
  }
 },
 "nbformat": 4,
 "nbformat_minor": 5
}
